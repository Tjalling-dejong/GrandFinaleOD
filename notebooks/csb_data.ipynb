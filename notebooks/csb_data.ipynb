{
 "cells": [
  {
   "cell_type": "code",
<<<<<<< HEAD
   "execution_count": 1,
=======
   "execution_count": 2,
>>>>>>> main
   "metadata": {},
   "outputs": [],
   "source": [
    "import geopandas as gpd"
   ]
  },
  {
   "cell_type": "code",
<<<<<<< HEAD
   "execution_count": 10,
=======
   "execution_count": 3,
>>>>>>> main
   "metadata": {},
   "outputs": [],
   "source": [
    "cbs_wb_2020 = gpd.read_file(\"../data/WijkBuurtkaart_2020_v3/wijkenbuurten_2020_v3.gpkg\", layer=\"buurten\")\n"
   ]
  },
  {
   "cell_type": "code",
<<<<<<< HEAD
   "execution_count": 11,
=======
   "execution_count": 4,
>>>>>>> main
   "metadata": {},
   "outputs": [],
   "source": [
    "cbs_wb_2020 = cbs_wb_2020[(cbs_wb_2020[\"gemeentenaam\"].isin(['Amsterdam', 'Haarlemmermeer', 'Zaanstad', 'Aalsmeer', 'Amstelveen', 'Diemen', 'Ouder-Amstel', 'Uithoorn']))]"
   ]
  },
  {
   "cell_type": "code",
<<<<<<< HEAD
   "execution_count": 14,
   "metadata": {},
   "outputs": [],
   "source": [
    "cbs_wb_2020[[\"buurtcode\", \"buurtnaam\", \"wijkcode\", \"gemeentecode\", \"gemeentenaam\", \"geometry\"]].to_file(\"buurten_od.geojson\")"
=======
   "execution_count": 5,
   "metadata": {},
   "outputs": [],
   "source": [
    "buurten = cbs_wb_2020[[\"buurtcode\", \"buurtnaam\", \"wijkcode\", \"gemeentecode\", \"gemeentenaam\", \"geometry\"]].to_crs(4326)"
   ]
  },
  {
   "cell_type": "code",
   "execution_count": 8,
   "metadata": {},
   "outputs": [],
   "source": [
    "\n",
    "buurten.to_file(\"buurten_od.geojson\")"
>>>>>>> main
   ]
  },
  {
   "cell_type": "code",
   "execution_count": null,
   "metadata": {},
   "outputs": [],
   "source": []
  }
 ],
 "metadata": {
  "kernelspec": {
   "display_name": "GrandFinaleOD",
   "language": "python",
   "name": "python3"
  },
  "language_info": {
   "codemirror_mode": {
    "name": "ipython",
    "version": 3
   },
   "file_extension": ".py",
   "mimetype": "text/x-python",
   "name": "python",
   "nbconvert_exporter": "python",
   "pygments_lexer": "ipython3",
   "version": "3.11.4"
  },
  "orig_nbformat": 4
 },
 "nbformat": 4,
 "nbformat_minor": 2
}
